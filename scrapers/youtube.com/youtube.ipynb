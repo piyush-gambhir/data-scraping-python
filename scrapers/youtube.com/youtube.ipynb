{
 "cells": [
  {
   "cell_type": "code",
   "execution_count": 3,
   "metadata": {},
   "outputs": [
    {
     "name": "stderr",
     "output_type": "stream",
     "text": [
      "c:\\Users\\mainp\\AppData\\Local\\pypoetry\\Cache\\virtualenvs\\data-scraping-python-zETLVNi3-py3.12\\Lib\\site-packages\\moviepy\\config_defaults.py:1: SyntaxWarning: invalid escape sequence '\\P'\n",
      "  \"\"\"\n",
      "c:\\Users\\mainp\\AppData\\Local\\pypoetry\\Cache\\virtualenvs\\data-scraping-python-zETLVNi3-py3.12\\Lib\\site-packages\\moviepy\\video\\io\\ffmpeg_reader.py:294: SyntaxWarning: invalid escape sequence '\\d'\n",
      "  lines_video = [l for l in lines if ' Video: ' in l and re.search('\\d+x\\d+', l)]\n",
      "c:\\Users\\mainp\\AppData\\Local\\pypoetry\\Cache\\virtualenvs\\data-scraping-python-zETLVNi3-py3.12\\Lib\\site-packages\\moviepy\\video\\io\\ffmpeg_reader.py:367: SyntaxWarning: invalid escape sequence '\\d'\n",
      "  rotation_lines = [l for l in lines if 'rotate          :' in l and re.search('\\d+$', l)]\n",
      "c:\\Users\\mainp\\AppData\\Local\\pypoetry\\Cache\\virtualenvs\\data-scraping-python-zETLVNi3-py3.12\\Lib\\site-packages\\moviepy\\video\\io\\ffmpeg_reader.py:370: SyntaxWarning: invalid escape sequence '\\d'\n",
      "  match = re.search('\\d+$', rotation_line)\n"
     ]
    }
   ],
   "source": [
    "from bs4 import BeautifulSoup\n",
    "from pytube import YouTube\n",
    "import os\n",
    "import re\n",
    "from moviepy.video.io.VideoFileClip import VideoFileClip"
   ]
  },
  {
   "cell_type": "code",
   "execution_count": 4,
   "metadata": {},
   "outputs": [],
   "source": [
    "# import the html from the youtube.html file\n",
    "with open('youtube.html', 'r', encoding='utf-8') as f:\n",
    "    html = f.read()"
   ]
  },
  {
   "cell_type": "code",
   "execution_count": 5,
   "metadata": {},
   "outputs": [
    {
     "name": "stdout",
     "output_type": "stream",
     "text": [
      "142\n"
     ]
    }
   ],
   "source": [
    "urls = []\n",
    "soup = BeautifulSoup(html, 'html.parser')\n",
    "thumbnails = soup.find_all('a', {'id': 'thumbnail'})\n",
    "for thumbnail in thumbnails:\n",
    "    href = thumbnail.get('href')\n",
    "    if href and '/watch?v=' in href:\n",
    "        urls.append(\"https://www.youtube.com\" + href)\n",
    "\n",
    "\n",
    "# remove the duplicates\n",
    "urls = list(set(urls))\n",
    "print(len(urls))\n",
    "\n",
    "# export all the urls\n",
    "with open('urls.txt', 'w') as f:\n",
    "    for url in urls:\n",
    "        f.write(url + '\\n')"
   ]
  },
  {
   "cell_type": "code",
   "execution_count": 6,
   "metadata": {},
   "outputs": [
    {
     "name": "stdout",
     "output_type": "stream",
     "text": [
      "0\n"
     ]
    }
   ],
   "source": [
    "html = open('youtube.html', 'r', encoding='utf-8').read()\n",
    "\n",
    "\n",
    "# Define the regular expression pattern\n",
    "pattern = r'\"url\":\\s*\"(/watch\\?v=[^\"]+)\"'\n",
    "\n",
    "# Find all matches in the source code\n",
    "matches = re.findall(pattern, html)\n",
    "\n",
    "urls = []\n",
    "\n",
    "# Append all the extracted video URLs\n",
    "for match in matches:\n",
    "    urls.append(\"https://www.youtube.com\" + match)\n",
    "urls = list(set(urls))\n",
    "print(len(urls))\n",
    "\n",
    "# export all the urls\n",
    "with open('urls.txt', 'w') as f:\n",
    "    for url in urls:\n",
    "        f.write(url + '\\n')"
   ]
  },
  {
   "cell_type": "code",
   "execution_count": 7,
   "metadata": {},
   "outputs": [],
   "source": [
    "failed = []\n",
    "for url in urls:\n",
    "    try:\n",
    "\n",
    "        yt = YouTube(url)\n",
    "\n",
    "        # get the best quality video stream\n",
    "\n",
    "        best_video_stream = yt.streams.get_highest_resolution()\n",
    "        # Download the video file\n",
    "\n",
    "        best_video_stream.download()\n",
    "    except Exception as e:\n",
    "        print(e)\n",
    "        failed.append(url)"
   ]
  },
  {
   "cell_type": "code",
   "execution_count": 8,
   "metadata": {},
   "outputs": [
    {
     "ename": "FileNotFoundError",
     "evalue": "[WinError 3] The system cannot find the path specified: './mp4/'",
     "output_type": "error",
     "traceback": [
      "\u001b[1;31m---------------------------------------------------------------------------\u001b[0m",
      "\u001b[1;31mFileNotFoundError\u001b[0m                         Traceback (most recent call last)",
      "Cell \u001b[1;32mIn[8], line 32\u001b[0m\n\u001b[0;32m     29\u001b[0m input_folder \u001b[38;5;241m=\u001b[39m \u001b[38;5;124m\"\u001b[39m\u001b[38;5;124m./mp4/\u001b[39m\u001b[38;5;124m\"\u001b[39m\n\u001b[0;32m     30\u001b[0m output_folder \u001b[38;5;241m=\u001b[39m \u001b[38;5;124m\"\u001b[39m\u001b[38;5;124m./mp3/\u001b[39m\u001b[38;5;124m\"\u001b[39m\n\u001b[1;32m---> 32\u001b[0m \u001b[43mconvert_mp4_to_mp3\u001b[49m\u001b[43m(\u001b[49m\u001b[43minput_folder\u001b[49m\u001b[43m,\u001b[49m\u001b[43m \u001b[49m\u001b[43moutput_folder\u001b[49m\u001b[43m)\u001b[49m\n",
      "Cell \u001b[1;32mIn[8], line 7\u001b[0m, in \u001b[0;36mconvert_mp4_to_mp3\u001b[1;34m(input_folder, output_folder)\u001b[0m\n\u001b[0;32m      4\u001b[0m     os\u001b[38;5;241m.\u001b[39mmakedirs(output_folder)\n\u001b[0;32m      6\u001b[0m \u001b[38;5;66;03m# Get a list of all files in the input folder\u001b[39;00m\n\u001b[1;32m----> 7\u001b[0m files \u001b[38;5;241m=\u001b[39m \u001b[43mos\u001b[49m\u001b[38;5;241;43m.\u001b[39;49m\u001b[43mlistdir\u001b[49m\u001b[43m(\u001b[49m\u001b[43minput_folder\u001b[49m\u001b[43m)\u001b[49m\n\u001b[0;32m      9\u001b[0m \u001b[38;5;28;01mfor\u001b[39;00m file \u001b[38;5;129;01min\u001b[39;00m files:\n\u001b[0;32m     10\u001b[0m     \u001b[38;5;66;03m# Check if the file is an MP4 file\u001b[39;00m\n\u001b[0;32m     11\u001b[0m     \u001b[38;5;28;01mif\u001b[39;00m file\u001b[38;5;241m.\u001b[39mendswith(\u001b[38;5;124m\"\u001b[39m\u001b[38;5;124m.mp4\u001b[39m\u001b[38;5;124m\"\u001b[39m):\n",
      "\u001b[1;31mFileNotFoundError\u001b[0m: [WinError 3] The system cannot find the path specified: './mp4/'"
     ]
    }
   ],
   "source": [
    "\n",
    "\n",
    "def convert_mp4_to_mp3(input_folder, output_folder):\n",
    "    # Create the output folder if it doesn't exist\n",
    "    if not os.path.exists(output_folder):\n",
    "        os.makedirs(output_folder)\n",
    "\n",
    "    # Get a list of all files in the input folder\n",
    "    files = os.listdir(input_folder)\n",
    "\n",
    "    for file in files:\n",
    "        # Check if the file is an MP4 file\n",
    "        if file.endswith(\".mp4\"):\n",
    "            input_path = os.path.join(input_folder, file)\n",
    "\n",
    "            # Generate output file path with the same name but with .mp3 extension\n",
    "            output_file = os.path.splitext(file)[0] + \".mp3\"\n",
    "            output_path = os.path.join(output_folder, output_file)\n",
    "\n",
    "            # Convert MP4 to MP3 using moviepy\n",
    "            video_clip = VideoFileClip(input_path)\n",
    "            audio_clip = video_clip.audio\n",
    "            audio_clip.write_audiofile(output_path, codec='mp3')\n",
    "\n",
    "            # Close the clips\n",
    "            audio_clip.close()\n",
    "            video_clip.close()\n",
    "\n",
    "\n",
    "if __name__ == \"__main__\":\n",
    "    input_folder = \"./mp4/\"\n",
    "    output_folder = \"./mp3/\"\n",
    "\n",
    "    convert_mp4_to_mp3(input_folder, output_folder)"
   ]
  },
  {
   "cell_type": "code",
   "execution_count": 2,
   "metadata": {},
   "outputs": [
    {
     "ename": "ModuleNotFoundError",
     "evalue": "No module named 'yt_dlp'",
     "output_type": "error",
     "traceback": [
      "\u001b[1;31m---------------------------------------------------------------------------\u001b[0m",
      "\u001b[1;31mModuleNotFoundError\u001b[0m                       Traceback (most recent call last)",
      "Cell \u001b[1;32mIn[2], line 2\u001b[0m\n\u001b[0;32m      1\u001b[0m \u001b[38;5;28;01mimport\u001b[39;00m \u001b[38;5;21;01mos\u001b[39;00m\n\u001b[1;32m----> 2\u001b[0m \u001b[38;5;28;01mimport\u001b[39;00m \u001b[38;5;21;01myt_dlp\u001b[39;00m\n\u001b[0;32m      3\u001b[0m \u001b[38;5;28;01mfrom\u001b[39;00m \u001b[38;5;21;01mmoviepy\u001b[39;00m\u001b[38;5;21;01m.\u001b[39;00m\u001b[38;5;21;01mvideo\u001b[39;00m\u001b[38;5;21;01m.\u001b[39;00m\u001b[38;5;21;01mio\u001b[39;00m\u001b[38;5;21;01m.\u001b[39;00m\u001b[38;5;21;01mVideoFileClip\u001b[39;00m \u001b[38;5;28;01mimport\u001b[39;00m VideoFileClip\n\u001b[0;32m      5\u001b[0m \u001b[38;5;66;03m# Function to extract YouTube URLs from an HTML file\u001b[39;00m\n",
      "\u001b[1;31mModuleNotFoundError\u001b[0m: No module named 'yt_dlp'"
     ]
    }
   ],
   "source": [
    "import os\n",
    "import yt_dlp\n",
    "from moviepy.video.io.VideoFileClip import VideoFileClip\n",
    "\n",
    "# Function to extract YouTube URLs from an HTML file\n",
    "def extract_youtube_urls(html_file_path):\n",
    "    from bs4 import BeautifulSoup\n",
    "\n",
    "    with open(html_file_path, 'r', encoding='utf-8') as f:\n",
    "        html = f.read()\n",
    "\n",
    "    soup = BeautifulSoup(html, 'html.parser')\n",
    "    thumbnails = soup.find_all('a', {'id': 'thumbnail'})\n",
    "    urls = []\n",
    "\n",
    "    # Extract unique YouTube URLs\n",
    "    for thumbnail in thumbnails:\n",
    "        href = thumbnail.get('href')\n",
    "        if href and '/watch?v=' in href:\n",
    "            urls.append(\"https://www.youtube.com\" + href)\n",
    "\n",
    "    # Remove duplicates\n",
    "    urls = list(set(urls))\n",
    "    return urls\n",
    "\n",
    "# Function to download videos from YouTube using yt-dlp\n",
    "def download_youtube_videos(urls, download_folder=\"./videos\"):\n",
    "    # Create folder if it doesn't exist\n",
    "    if not os.path.exists(download_folder):\n",
    "        os.makedirs(download_folder)\n",
    "\n",
    "    failed = []\n",
    "\n",
    "    for url in urls:\n",
    "        try:\n",
    "            ydl_opts = {\n",
    "                'outtmpl': os.path.join(download_folder, '%(title)s.%(ext)s'),  # Save to the folder\n",
    "                'format': 'bestvideo+bestaudio/best',  # Download best quality\n",
    "            }\n",
    "\n",
    "            with yt_dlp.YoutubeDL(ydl_opts) as ydl:\n",
    "                ydl.download([url])\n",
    "            print(f\"Downloaded: {url}\")\n",
    "        except Exception as e:\n",
    "            print(f\"Failed to download {url}: {e}\")\n",
    "            failed.append(url)\n",
    "\n",
    "    return failed\n",
    "\n",
    "# Function to convert MP4 files to MP3 (requires moviepy)\n",
    "def convert_mp4_to_mp3(input_folder, output_folder):\n",
    "    if not os.path.exists(output_folder):\n",
    "        os.makedirs(output_folder)\n",
    "\n",
    "    files = os.listdir(input_folder)\n",
    "\n",
    "    for file in files:\n",
    "        if file.endswith(\".mp4\"):\n",
    "            input_path = os.path.join(input_folder, file)\n",
    "            output_file = os.path.splitext(file)[0] + \".mp3\"\n",
    "            output_path = os.path.join(output_folder, output_file)\n",
    "\n",
    "            try:\n",
    "                video_clip = VideoFileClip(input_path)\n",
    "                audio_clip = video_clip.audio\n",
    "                audio_clip.write_audiofile(output_path, codec='mp3')\n",
    "                print(f\"Converted: {file} to MP3\")\n",
    "\n",
    "                # Close clips\n",
    "                audio_clip.close()\n",
    "                video_clip.close()\n",
    "            except Exception as e:\n",
    "                print(f\"Error converting {file}: {e}\")\n",
    "\n",
    "if __name__ == \"__main__\":\n",
    "    # Extract YouTube URLs from the HTML file\n",
    "    html_file = './youtube.html'\n",
    "    urls = extract_youtube_urls(html_file)\n",
    "\n",
    "    # Save URLs to file\n",
    "    with open('urls.txt', 'w') as f:\n",
    "        for url in urls:\n",
    "            f.write(url + '\\n')\n",
    "\n",
    "    # Download the YouTube videos\n",
    "    failed_downloads = download_youtube_videos(urls)\n",
    "\n",
    "    # Optionally, save failed downloads to a file\n",
    "    if failed_downloads:\n",
    "        with open('failed_urls.txt', 'w') as f:\n",
    "            for url in failed_downloads:\n",
    "                f.write(url + '\\n')\n",
    "\n",
    "    # Convert downloaded MP4 videos to MP3\n",
    "    input_folder = \"./videos/\"\n",
    "    output_folder = \"./mp3/\"\n",
    "    convert_mp4_to_mp3(input_folder, output_folder)\n"
   ]
  }
 ],
 "metadata": {
  "kernelspec": {
   "display_name": "data-scraping-python-zETLVNi3-py3.12",
   "language": "python",
   "name": "python3"
  },
  "language_info": {
   "codemirror_mode": {
    "name": "ipython",
    "version": 3
   },
   "file_extension": ".py",
   "mimetype": "text/x-python",
   "name": "python",
   "nbconvert_exporter": "python",
   "pygments_lexer": "ipython3",
   "version": "3.12.4"
  }
 },
 "nbformat": 4,
 "nbformat_minor": 2
}
